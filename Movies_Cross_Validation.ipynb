{
 "cells": [
  {
   "cell_type": "code",
   "execution_count": 2,
   "metadata": {},
   "outputs": [],
   "source": [
    "%matplotlib inline\n",
    "import numpy as np\n",
    "import pandas as pd\n",
    "import matplotlib.pyplot as plt"
   ]
  },
  {
   "cell_type": "markdown",
   "metadata": {},
   "source": [
    "## Evaluate the Performance of a Model"
   ]
  },
  {
   "cell_type": "markdown",
   "metadata": {},
   "source": [
    "###  Gettting the data\n"
   ]
  },
  {
   "cell_type": "code",
   "execution_count": 3,
   "metadata": {},
   "outputs": [],
   "source": [
    "path = '../_my_work_/X_opening.csv'\n",
    "y = pd.read_csv(path)['worldwide_gross']\n",
    "x = pd.read_csv(path).drop('worldwide_gross', axis = 1)"
   ]
  },
  {
   "cell_type": "code",
   "execution_count": 4,
   "metadata": {},
   "outputs": [
    {
     "data": {
      "text/html": [
       "<div>\n",
       "<style scoped>\n",
       "    .dataframe tbody tr th:only-of-type {\n",
       "        vertical-align: middle;\n",
       "    }\n",
       "\n",
       "    .dataframe tbody tr th {\n",
       "        vertical-align: top;\n",
       "    }\n",
       "\n",
       "    .dataframe thead th {\n",
       "        text-align: right;\n",
       "    }\n",
       "</style>\n",
       "<table border=\"1\" class=\"dataframe\">\n",
       "  <thead>\n",
       "    <tr style=\"text-align: right;\">\n",
       "      <th></th>\n",
       "      <th>production_budget</th>\n",
       "      <th>title_year</th>\n",
       "      <th>aspect_ratio</th>\n",
       "      <th>duration.1</th>\n",
       "      <th>cast_total_facebook_likes</th>\n",
       "      <th>budget</th>\n",
       "      <th>imdb_score</th>\n",
       "      <th>opening_gross</th>\n",
       "      <th>screens</th>\n",
       "    </tr>\n",
       "  </thead>\n",
       "  <tbody>\n",
       "    <tr>\n",
       "      <td>0</td>\n",
       "      <td>425000000.0</td>\n",
       "      <td>2009.0</td>\n",
       "      <td>1.78</td>\n",
       "      <td>178.0</td>\n",
       "      <td>4834.0</td>\n",
       "      <td>237000000.0</td>\n",
       "      <td>7.9</td>\n",
       "      <td>77025481.0</td>\n",
       "      <td>3452.0</td>\n",
       "    </tr>\n",
       "    <tr>\n",
       "      <td>1</td>\n",
       "      <td>300000000.0</td>\n",
       "      <td>2007.0</td>\n",
       "      <td>2.35</td>\n",
       "      <td>169.0</td>\n",
       "      <td>48350.0</td>\n",
       "      <td>300000000.0</td>\n",
       "      <td>7.1</td>\n",
       "      <td>139802190.0</td>\n",
       "      <td>4362.0</td>\n",
       "    </tr>\n",
       "    <tr>\n",
       "      <td>2</td>\n",
       "      <td>300000000.0</td>\n",
       "      <td>2015.0</td>\n",
       "      <td>2.35</td>\n",
       "      <td>148.0</td>\n",
       "      <td>11700.0</td>\n",
       "      <td>245000000.0</td>\n",
       "      <td>6.8</td>\n",
       "      <td>70403148.0</td>\n",
       "      <td>3929.0</td>\n",
       "    </tr>\n",
       "  </tbody>\n",
       "</table>\n",
       "</div>"
      ],
      "text/plain": [
       "   production_budget  title_year  aspect_ratio  duration.1  \\\n",
       "0        425000000.0      2009.0          1.78       178.0   \n",
       "1        300000000.0      2007.0          2.35       169.0   \n",
       "2        300000000.0      2015.0          2.35       148.0   \n",
       "\n",
       "   cast_total_facebook_likes       budget  imdb_score  opening_gross  screens  \n",
       "0                     4834.0  237000000.0         7.9     77025481.0   3452.0  \n",
       "1                    48350.0  300000000.0         7.1    139802190.0   4362.0  \n",
       "2                    11700.0  245000000.0         6.8     70403148.0   3929.0  "
      ]
     },
     "execution_count": 4,
     "metadata": {},
     "output_type": "execute_result"
    }
   ],
   "source": [
    "x.head(3)"
   ]
  },
  {
   "cell_type": "code",
   "execution_count": 5,
   "metadata": {},
   "outputs": [
    {
     "data": {
      "text/plain": [
       "((2221, 9), (2221,))"
      ]
     },
     "execution_count": 5,
     "metadata": {},
     "output_type": "execute_result"
    }
   ],
   "source": [
    "x.shape , y.shape"
   ]
  },
  {
   "cell_type": "markdown",
   "metadata": {},
   "source": [
    "### Choosing Train and Test Data"
   ]
  },
  {
   "cell_type": "markdown",
   "metadata": {},
   "source": [
    "#### Spliting Data with model_selection"
   ]
  },
  {
   "cell_type": "code",
   "execution_count": 6,
   "metadata": {},
   "outputs": [],
   "source": [
    "from sklearn.model_selection import train_test_split\n",
    "\n",
    "#Add a parameter to function train_test_split so it always delivers the same data partition (Not random)\n",
    "#parameter:  random_state = number\n",
    "#number is an integer; so, to have same results it has to be used the same number.\n",
    "\n",
    "x_train, x_test, y_train, y_test = train_test_split(x,y, random_state = 1)"
   ]
  },
  {
   "cell_type": "code",
   "execution_count": 7,
   "metadata": {},
   "outputs": [],
   "source": [
    "x2_train, x2_test, y2_train, y2_test = train_test_split(x,y, random_state = 1)"
   ]
  },
  {
   "cell_type": "code",
   "execution_count": 8,
   "metadata": {},
   "outputs": [
    {
     "data": {
      "text/html": [
       "<div>\n",
       "<style scoped>\n",
       "    .dataframe tbody tr th:only-of-type {\n",
       "        vertical-align: middle;\n",
       "    }\n",
       "\n",
       "    .dataframe tbody tr th {\n",
       "        vertical-align: top;\n",
       "    }\n",
       "\n",
       "    .dataframe thead th {\n",
       "        text-align: right;\n",
       "    }\n",
       "</style>\n",
       "<table border=\"1\" class=\"dataframe\">\n",
       "  <thead>\n",
       "    <tr style=\"text-align: right;\">\n",
       "      <th></th>\n",
       "      <th>production_budget</th>\n",
       "      <th>title_year</th>\n",
       "      <th>aspect_ratio</th>\n",
       "      <th>duration.1</th>\n",
       "      <th>cast_total_facebook_likes</th>\n",
       "      <th>budget</th>\n",
       "      <th>imdb_score</th>\n",
       "      <th>opening_gross</th>\n",
       "      <th>screens</th>\n",
       "    </tr>\n",
       "  </thead>\n",
       "  <tbody>\n",
       "    <tr>\n",
       "      <td>1724</td>\n",
       "      <td>20000000.0</td>\n",
       "      <td>2004.0</td>\n",
       "      <td>1.85</td>\n",
       "      <td>99.0</td>\n",
       "      <td>1189.0</td>\n",
       "      <td>40000000.0</td>\n",
       "      <td>4.8</td>\n",
       "      <td>6160886.0</td>\n",
       "      <td>2445.0</td>\n",
       "    </tr>\n",
       "    <tr>\n",
       "      <td>2027</td>\n",
       "      <td>14000000.0</td>\n",
       "      <td>1998.0</td>\n",
       "      <td>2.35</td>\n",
       "      <td>99.0</td>\n",
       "      <td>3500.0</td>\n",
       "      <td>14000000.0</td>\n",
       "      <td>5.5</td>\n",
       "      <td>10515444.0</td>\n",
       "      <td>2257.0</td>\n",
       "    </tr>\n",
       "    <tr>\n",
       "      <td>1843</td>\n",
       "      <td>18000000.0</td>\n",
       "      <td>2008.0</td>\n",
       "      <td>2.35</td>\n",
       "      <td>98.0</td>\n",
       "      <td>2215.0</td>\n",
       "      <td>18000000.0</td>\n",
       "      <td>5.1</td>\n",
       "      <td>300000.0</td>\n",
       "      <td>482.0</td>\n",
       "    </tr>\n",
       "    <tr>\n",
       "      <td>470</td>\n",
       "      <td>72000000.0</td>\n",
       "      <td>2001.0</td>\n",
       "      <td>2.35</td>\n",
       "      <td>116.0</td>\n",
       "      <td>14780.0</td>\n",
       "      <td>72000000.0</td>\n",
       "      <td>4.5</td>\n",
       "      <td>12174504.0</td>\n",
       "      <td>2905.0</td>\n",
       "    </tr>\n",
       "    <tr>\n",
       "      <td>1225</td>\n",
       "      <td>31000000.0</td>\n",
       "      <td>2012.0</td>\n",
       "      <td>2.35</td>\n",
       "      <td>138.0</td>\n",
       "      <td>20952.0</td>\n",
       "      <td>31000000.0</td>\n",
       "      <td>7.3</td>\n",
       "      <td>24900566.0</td>\n",
       "      <td>1884.0</td>\n",
       "    </tr>\n",
       "  </tbody>\n",
       "</table>\n",
       "</div>"
      ],
      "text/plain": [
       "      production_budget  title_year  aspect_ratio  duration.1  \\\n",
       "1724         20000000.0      2004.0          1.85        99.0   \n",
       "2027         14000000.0      1998.0          2.35        99.0   \n",
       "1843         18000000.0      2008.0          2.35        98.0   \n",
       "470          72000000.0      2001.0          2.35       116.0   \n",
       "1225         31000000.0      2012.0          2.35       138.0   \n",
       "\n",
       "      cast_total_facebook_likes      budget  imdb_score  opening_gross  \\\n",
       "1724                     1189.0  40000000.0         4.8      6160886.0   \n",
       "2027                     3500.0  14000000.0         5.5     10515444.0   \n",
       "1843                     2215.0  18000000.0         5.1       300000.0   \n",
       "470                     14780.0  72000000.0         4.5     12174504.0   \n",
       "1225                    20952.0  31000000.0         7.3     24900566.0   \n",
       "\n",
       "      screens  \n",
       "1724   2445.0  \n",
       "2027   2257.0  \n",
       "1843    482.0  \n",
       "470    2905.0  \n",
       "1225   1884.0  "
      ]
     },
     "execution_count": 8,
     "metadata": {},
     "output_type": "execute_result"
    }
   ],
   "source": [
    "x_train.head(5)"
   ]
  },
  {
   "cell_type": "code",
   "execution_count": 9,
   "metadata": {},
   "outputs": [
    {
     "data": {
      "text/html": [
       "<div>\n",
       "<style scoped>\n",
       "    .dataframe tbody tr th:only-of-type {\n",
       "        vertical-align: middle;\n",
       "    }\n",
       "\n",
       "    .dataframe tbody tr th {\n",
       "        vertical-align: top;\n",
       "    }\n",
       "\n",
       "    .dataframe thead th {\n",
       "        text-align: right;\n",
       "    }\n",
       "</style>\n",
       "<table border=\"1\" class=\"dataframe\">\n",
       "  <thead>\n",
       "    <tr style=\"text-align: right;\">\n",
       "      <th></th>\n",
       "      <th>production_budget</th>\n",
       "      <th>title_year</th>\n",
       "      <th>aspect_ratio</th>\n",
       "      <th>duration.1</th>\n",
       "      <th>cast_total_facebook_likes</th>\n",
       "      <th>budget</th>\n",
       "      <th>imdb_score</th>\n",
       "      <th>opening_gross</th>\n",
       "      <th>screens</th>\n",
       "    </tr>\n",
       "  </thead>\n",
       "  <tbody>\n",
       "    <tr>\n",
       "      <td>1724</td>\n",
       "      <td>20000000.0</td>\n",
       "      <td>2004.0</td>\n",
       "      <td>1.85</td>\n",
       "      <td>99.0</td>\n",
       "      <td>1189.0</td>\n",
       "      <td>40000000.0</td>\n",
       "      <td>4.8</td>\n",
       "      <td>6160886.0</td>\n",
       "      <td>2445.0</td>\n",
       "    </tr>\n",
       "    <tr>\n",
       "      <td>2027</td>\n",
       "      <td>14000000.0</td>\n",
       "      <td>1998.0</td>\n",
       "      <td>2.35</td>\n",
       "      <td>99.0</td>\n",
       "      <td>3500.0</td>\n",
       "      <td>14000000.0</td>\n",
       "      <td>5.5</td>\n",
       "      <td>10515444.0</td>\n",
       "      <td>2257.0</td>\n",
       "    </tr>\n",
       "    <tr>\n",
       "      <td>1843</td>\n",
       "      <td>18000000.0</td>\n",
       "      <td>2008.0</td>\n",
       "      <td>2.35</td>\n",
       "      <td>98.0</td>\n",
       "      <td>2215.0</td>\n",
       "      <td>18000000.0</td>\n",
       "      <td>5.1</td>\n",
       "      <td>300000.0</td>\n",
       "      <td>482.0</td>\n",
       "    </tr>\n",
       "    <tr>\n",
       "      <td>470</td>\n",
       "      <td>72000000.0</td>\n",
       "      <td>2001.0</td>\n",
       "      <td>2.35</td>\n",
       "      <td>116.0</td>\n",
       "      <td>14780.0</td>\n",
       "      <td>72000000.0</td>\n",
       "      <td>4.5</td>\n",
       "      <td>12174504.0</td>\n",
       "      <td>2905.0</td>\n",
       "    </tr>\n",
       "    <tr>\n",
       "      <td>1225</td>\n",
       "      <td>31000000.0</td>\n",
       "      <td>2012.0</td>\n",
       "      <td>2.35</td>\n",
       "      <td>138.0</td>\n",
       "      <td>20952.0</td>\n",
       "      <td>31000000.0</td>\n",
       "      <td>7.3</td>\n",
       "      <td>24900566.0</td>\n",
       "      <td>1884.0</td>\n",
       "    </tr>\n",
       "  </tbody>\n",
       "</table>\n",
       "</div>"
      ],
      "text/plain": [
       "      production_budget  title_year  aspect_ratio  duration.1  \\\n",
       "1724         20000000.0      2004.0          1.85        99.0   \n",
       "2027         14000000.0      1998.0          2.35        99.0   \n",
       "1843         18000000.0      2008.0          2.35        98.0   \n",
       "470          72000000.0      2001.0          2.35       116.0   \n",
       "1225         31000000.0      2012.0          2.35       138.0   \n",
       "\n",
       "      cast_total_facebook_likes      budget  imdb_score  opening_gross  \\\n",
       "1724                     1189.0  40000000.0         4.8      6160886.0   \n",
       "2027                     3500.0  14000000.0         5.5     10515444.0   \n",
       "1843                     2215.0  18000000.0         5.1       300000.0   \n",
       "470                     14780.0  72000000.0         4.5     12174504.0   \n",
       "1225                    20952.0  31000000.0         7.3     24900566.0   \n",
       "\n",
       "      screens  \n",
       "1724   2445.0  \n",
       "2027   2257.0  \n",
       "1843    482.0  \n",
       "470    2905.0  \n",
       "1225   1884.0  "
      ]
     },
     "execution_count": 9,
     "metadata": {},
     "output_type": "execute_result"
    }
   ],
   "source": [
    "x2_train.head(5)"
   ]
  },
  {
   "cell_type": "code",
   "execution_count": 10,
   "metadata": {},
   "outputs": [
    {
     "data": {
      "text/plain": [
       "True"
      ]
     },
     "execution_count": 10,
     "metadata": {},
     "output_type": "execute_result"
    }
   ],
   "source": [
    "#Verify if random_state = 1 displays the same data partition\n",
    "\n",
    "pd.DataFrame.equals(x_train, x2_train)"
   ]
  },
  {
   "cell_type": "markdown",
   "metadata": {},
   "source": [
    "### Cross Validation Partition\n",
    "\n",
    "Divide the full data set in $N$ different partitions. Then, choose the $N_i$ partition as the target ($x_i$, $y_i$), and, use the others to train the model. Thereafter, move to other $N_{j \\neq i}$ partitions of the **x** dataframe and use it as a new targer, then, train the model. Afterwards, repeat the same process $i$ times, one per partition with all $N_{k \\neq i}$.\n",
    "\n",
    "It means, you will have $i$ different __scores__ for each training step. So, a better score is the mean of all. "
   ]
  },
  {
   "cell_type": "code",
   "execution_count": 11,
   "metadata": {},
   "outputs": [
    {
     "name": "stderr",
     "output_type": "stream",
     "text": [
      "C:\\Users\\PC\\Anaconda3\\lib\\site-packages\\sklearn\\linear_model\\_coordinate_descent.py:529: ConvergenceWarning: Objective did not converge. You might want to increase the number of iterations. Duality gap: 2.4819915158581985e+18, tolerance: 8653617519237809.0\n",
      "  positive)\n",
      "C:\\Users\\PC\\Anaconda3\\lib\\site-packages\\sklearn\\linear_model\\_coordinate_descent.py:529: ConvergenceWarning: Objective did not converge. You might want to increase the number of iterations. Duality gap: 2.214750477948416e+18, tolerance: 8440297367866622.0\n",
      "  positive)\n"
     ]
    }
   ],
   "source": [
    "#Implementation\n",
    "\n",
    "from sklearn.model_selection import cross_val_score\n",
    "from sklearn.linear_model import Lasso\n",
    "\n",
    "#Number of partitions to split the data\n",
    "n_partitions = 5\n",
    "#Type of scoring that I want (error of the model)\n",
    "error = 'r2'\n",
    "#Computing the scores using the Linear model Lasso() to train the data\n",
    "scores = cross_val_score(Lasso(), x, y, cv = n_partitions, scoring = error)"
   ]
  },
  {
   "cell_type": "code",
   "execution_count": 12,
   "metadata": {},
   "outputs": [
    {
     "data": {
      "text/plain": [
       "array([0.59316596, 0.68931527, 0.55383855, 0.18147236, 0.23040894])"
      ]
     },
     "execution_count": 12,
     "metadata": {},
     "output_type": "execute_result"
    }
   ],
   "source": [
    "scores"
   ]
  },
  {
   "cell_type": "code",
   "execution_count": 13,
   "metadata": {},
   "outputs": [
    {
     "data": {
      "text/plain": [
       "0.44964021745791777"
      ]
     },
     "execution_count": 13,
     "metadata": {},
     "output_type": "execute_result"
    }
   ],
   "source": [
    "# mean of scores\n",
    "\n",
    "scores.mean()"
   ]
  },
  {
   "cell_type": "markdown",
   "metadata": {},
   "source": [
    "##### Comparison with One single traininf Split"
   ]
  },
  {
   "cell_type": "code",
   "execution_count": 14,
   "metadata": {},
   "outputs": [
    {
     "name": "stderr",
     "output_type": "stream",
     "text": [
      "C:\\Users\\PC\\Anaconda3\\lib\\site-packages\\sklearn\\linear_model\\_coordinate_descent.py:529: ConvergenceWarning: Objective did not converge. You might want to increase the number of iterations. Duality gap: 2.087692647754195e+18, tolerance: 7479170615554818.0\n",
      "  positive)\n"
     ]
    },
    {
     "data": {
      "text/plain": [
       "Lasso()"
      ]
     },
     "execution_count": 14,
     "metadata": {},
     "output_type": "execute_result"
    }
   ],
   "source": [
    "model = Lasso()\n",
    "model.fit(x_train,y_train)"
   ]
  },
  {
   "cell_type": "code",
   "execution_count": 15,
   "metadata": {},
   "outputs": [
    {
     "data": {
      "text/plain": [
       "0.792619029496336"
      ]
     },
     "execution_count": 15,
     "metadata": {},
     "output_type": "execute_result"
    }
   ],
   "source": [
    "model.score(x_test,y_test)"
   ]
  },
  {
   "cell_type": "markdown",
   "metadata": {},
   "source": [
    "# Model Selection"
   ]
  },
  {
   "cell_type": "code",
   "execution_count": 16,
   "metadata": {},
   "outputs": [
    {
     "name": "stdout",
     "output_type": "stream",
     "text": [
      "Requirement already up-to-date: scikit-learn in c:\\users\\pc\\anaconda3\\lib\\site-packages (0.23.0)\n",
      "Requirement already satisfied, skipping upgrade: threadpoolctl>=2.0.0 in c:\\users\\pc\\anaconda3\\lib\\site-packages (from scikit-learn) (2.0.0)\n",
      "Requirement already satisfied, skipping upgrade: joblib>=0.11 in c:\\users\\pc\\anaconda3\\lib\\site-packages (from scikit-learn) (0.13.2)\n",
      "Requirement already satisfied, skipping upgrade: scipy>=0.19.1 in c:\\users\\pc\\anaconda3\\lib\\site-packages (from scikit-learn) (1.3.1)\n",
      "Requirement already satisfied, skipping upgrade: numpy>=1.13.3 in c:\\users\\pc\\anaconda3\\lib\\site-packages (from scikit-learn) (1.16.5)\n"
     ]
    }
   ],
   "source": [
    "!pip install --upgrade scikit-learn"
   ]
  },
  {
   "cell_type": "markdown",
   "metadata": {},
   "source": [
    "### Function to get more info from cross validation"
   ]
  },
  {
   "cell_type": "code",
   "execution_count": 17,
   "metadata": {},
   "outputs": [],
   "source": [
    "from sklearn.model_selection import cross_validate"
   ]
  },
  {
   "cell_type": "code",
   "execution_count": 18,
   "metadata": {},
   "outputs": [
    {
     "name": "stderr",
     "output_type": "stream",
     "text": [
      "C:\\Users\\PC\\Anaconda3\\lib\\site-packages\\sklearn\\linear_model\\_coordinate_descent.py:529: ConvergenceWarning: Objective did not converge. You might want to increase the number of iterations. Duality gap: 2.4819915158581985e+18, tolerance: 8653617519237809.0\n",
      "  positive)\n",
      "C:\\Users\\PC\\Anaconda3\\lib\\site-packages\\sklearn\\linear_model\\_coordinate_descent.py:529: ConvergenceWarning: Objective did not converge. You might want to increase the number of iterations. Duality gap: 2.214750477948416e+18, tolerance: 8440297367866622.0\n",
      "  positive)\n"
     ]
    },
    {
     "data": {
      "text/plain": [
       "{'fit_time': array([0.0039885 , 0.00498629, 0.01296425, 0.00498629, 0.01296496]),\n",
       " 'score_time': array([0.00199509, 0.00199437, 0.00199461, 0.00199485, 0.00099754]),\n",
       " 'test_score': array([0.59316596, 0.68931527, 0.55383855, 0.18147236, 0.23040894]),\n",
       " 'train_score': array([0.68988012, 0.77004932, 0.76604995, 0.76123379, 0.75837599])}"
      ]
     },
     "execution_count": 18,
     "metadata": {},
     "output_type": "execute_result"
    }
   ],
   "source": [
    "results = cross_validate(Lasso(),x,y, return_train_score = True, cv=5)\n",
    "results"
   ]
  },
  {
   "cell_type": "code",
   "execution_count": 19,
   "metadata": {},
   "outputs": [
    {
     "name": "stdout",
     "output_type": "stream",
     "text": [
      "0.7491178363039035\n",
      "0.44964021745791777\n"
     ]
    }
   ],
   "source": [
    "test_scores = results['test_score']\n",
    "train_scores = results['train_score']\n",
    "print(np.mean(train_scores))\n",
    "print(np.mean(test_scores))"
   ]
  },
  {
   "cell_type": "markdown",
   "metadata": {},
   "source": [
    " Lasso model have a bias becouse scores of training are 0.75"
   ]
  },
  {
   "cell_type": "markdown",
   "metadata": {},
   "source": [
    "## Using an Other Model"
   ]
  },
  {
   "cell_type": "markdown",
   "metadata": {},
   "source": [
    "### Close Neighbors"
   ]
  },
  {
   "cell_type": "code",
   "execution_count": 20,
   "metadata": {},
   "outputs": [],
   "source": [
    "from sklearn.neighbors import KNeighborsRegressor"
   ]
  },
  {
   "cell_type": "code",
   "execution_count": 21,
   "metadata": {},
   "outputs": [
    {
     "data": {
      "text/plain": [
       "{'fit_time': array([0.01093388, 0.00498676, 0.00594759, 0.00404596, 0.00500298]),\n",
       " 'score_time': array([0.00498629, 0.00495124, 0.00498605, 0.004987  , 0.00299239]),\n",
       " 'test_score': array([0.3647382 , 0.59274527, 0.21545625, 0.15143495, 0.25635077]),\n",
       " 'train_score': array([0.73553883, 0.78647652, 0.78386739, 0.77876542, 0.77477287])}"
      ]
     },
     "execution_count": 21,
     "metadata": {},
     "output_type": "execute_result"
    }
   ],
   "source": [
    "cross_validate(KNeighborsRegressor(), x,y,return_train_score = True,cv=5)"
   ]
  },
  {
   "cell_type": "code",
   "execution_count": 22,
   "metadata": {},
   "outputs": [
    {
     "data": {
      "text/plain": [
       "{'fit_time': array([0.00698113, 0.00398946, 0.00500822, 0.0049305 , 0.00498867]),\n",
       " 'score_time': array([0.00502634, 0.00499153, 0.00498414, 0.00502276, 0.00398636]),\n",
       " 'test_score': array([0.23553954, 0.61921355, 0.24881301, 0.1209604 , 0.2466995 ]),\n",
       " 'train_score': array([0.67830521, 0.76365722, 0.76231726, 0.75701303, 0.75061953])}"
      ]
     },
     "execution_count": 22,
     "metadata": {},
     "output_type": "execute_result"
    }
   ],
   "source": [
    "#Set parameter: number of neighbors\n",
    "cross_validate(KNeighborsRegressor(n_neighbors=10), x,y,return_train_score = True,cv=5)"
   ]
  },
  {
   "cell_type": "markdown",
   "metadata": {},
   "source": [
    "### Validation Curves & Learning Curves"
   ]
  },
  {
   "cell_type": "markdown",
   "metadata": {},
   "source": [
    "#### Validation Curves "
   ]
  },
  {
   "cell_type": "code",
   "execution_count": 24,
   "metadata": {},
   "outputs": [],
   "source": [
    "#Validation Curve \n",
    "#Values to give to Parameters: number of neighbors\n",
    "n = np.arange(2,50,2)"
   ]
  },
  {
   "cell_type": "code",
   "execution_count": 25,
   "metadata": {},
   "outputs": [],
   "source": [
    "from sklearn.model_selection import validation_curve\n",
    "\n",
    "#Choose the parameter you want to vary in parameter:\n",
    "#param_name\n",
    "#give values to param_name in:\n",
    "#param_range\n",
    "\n",
    "train_scores, test_scores = validation_curve(KNeighborsRegressor(),\n",
    "                                             x,\n",
    "                                             y,\n",
    "                                             param_name='n_neighbors',\n",
    "                                             param_range=n,\n",
    "                                             cv=5)"
   ]
  },
  {
   "cell_type": "code",
   "execution_count": 26,
   "metadata": {},
   "outputs": [
    {
     "data": {
      "text/plain": [
       "array([[0.85254787, 0.87500249, 0.87361899, 0.87096664, 0.86944354],\n",
       "       [0.76258234, 0.80362711, 0.80107876, 0.79649437, 0.79225826],\n",
       "       [0.71882872, 0.77528919, 0.77290638, 0.76735431, 0.76232037],\n",
       "       [0.68629696, 0.77062676, 0.76985196, 0.76407441, 0.75829891],\n",
       "       [0.67830521, 0.76365722, 0.76231726, 0.75701303, 0.75061953],\n",
       "       [0.66669119, 0.75639535, 0.75224453, 0.74815962, 0.74071023],\n",
       "       [0.65480296, 0.74891959, 0.74648058, 0.74378262, 0.73531718],\n",
       "       [0.64772202, 0.74008013, 0.73888781, 0.73626996, 0.72603174],\n",
       "       [0.63936836, 0.73593265, 0.73519762, 0.73104469, 0.72255579],\n",
       "       [0.63264888, 0.73410524, 0.73254544, 0.72913498, 0.72038171],\n",
       "       [0.62426297, 0.73376047, 0.73130737, 0.72761135, 0.7192313 ],\n",
       "       [0.61965019, 0.73181725, 0.72943231, 0.72617578, 0.71804593],\n",
       "       [0.61578387, 0.72891082, 0.72651615, 0.72246403, 0.71505758],\n",
       "       [0.6119936 , 0.72401826, 0.72211091, 0.718668  , 0.71028635],\n",
       "       [0.60667711, 0.7208691 , 0.71900503, 0.71565558, 0.70675387],\n",
       "       [0.60342878, 0.71887333, 0.71734429, 0.71339879, 0.70511047],\n",
       "       [0.59932481, 0.717331  , 0.71577141, 0.71174401, 0.70358607],\n",
       "       [0.59570468, 0.71411077, 0.7128537 , 0.70825943, 0.70021393],\n",
       "       [0.59130115, 0.71181479, 0.71017606, 0.70532643, 0.69745036],\n",
       "       [0.5881312 , 0.70941877, 0.70667805, 0.70261957, 0.69405402],\n",
       "       [0.58280384, 0.70924904, 0.70625789, 0.70212585, 0.69384008],\n",
       "       [0.57890516, 0.7053406 , 0.70261159, 0.69876321, 0.69048224],\n",
       "       [0.57451506, 0.7015458 , 0.69915105, 0.69491361, 0.68663061],\n",
       "       [0.57010508, 0.70070981, 0.69803575, 0.69347522, 0.68536209]])"
      ]
     },
     "execution_count": 26,
     "metadata": {},
     "output_type": "execute_result"
    }
   ],
   "source": [
    "train_scores"
   ]
  },
  {
   "cell_type": "code",
   "execution_count": 27,
   "metadata": {},
   "outputs": [
    {
     "data": {
      "text/plain": [
       "array([0.86831591, 0.79120817, 0.7593398 , 0.7498298 , 0.74238245,\n",
       "       0.73284018, 0.72586058, 0.71779833, 0.71281982, 0.70976325,\n",
       "       0.70723469, 0.70502429, 0.70174649, 0.69741543, 0.69379214,\n",
       "       0.69163113, 0.68955146, 0.6862285 , 0.68321376, 0.68018032,\n",
       "       0.67885534, 0.67522056, 0.67135123, 0.66953759])"
      ]
     },
     "execution_count": 27,
     "metadata": {},
     "output_type": "execute_result"
    }
   ],
   "source": [
    "#Average over columns\n",
    "np.mean(train_scores,axis=1)"
   ]
  },
  {
   "cell_type": "code",
   "execution_count": 28,
   "metadata": {},
   "outputs": [
    {
     "data": {
      "text/plain": [
       "(24,)"
      ]
     },
     "execution_count": 28,
     "metadata": {},
     "output_type": "execute_result"
    }
   ],
   "source": [
    "np.mean(train_scores,axis=1).shape"
   ]
  },
  {
   "cell_type": "code",
   "execution_count": 32,
   "metadata": {},
   "outputs": [
    {
     "data": {
      "text/plain": [
       "<matplotlib.legend.Legend at 0x25011241908>"
      ]
     },
     "execution_count": 32,
     "metadata": {},
     "output_type": "execute_result"
    },
    {
     "data": {
      "image/png": "[encoded data removed]",
      "text/plain": [
       "<Figure size 432x288 with 1 Axes>"
      ]
     },
     "metadata": {
      "needs_background": "light"
     },
     "output_type": "display_data"
    }
   ],
   "source": [
    "#Plot the scores behaivior\n",
    "plt.plot(np.mean(train_scores,axis=1))\n",
    "plt.plot(np.mean(test_scores,axis=1))\n",
    "#set x scale: \n",
    "plt.xticks(np.arange(24),n)\n",
    "plt.legend(['train_scores','test_scores'])"
   ]
  },
  {
   "cell_type": "markdown",
   "metadata": {},
   "source": [
    "#### Learning Curves"
   ]
  },
  {
   "cell_type": "code",
   "execution_count": 35,
   "metadata": {},
   "outputs": [],
   "source": [
    "from sklearn.model_selection import learning_curve\n",
    "\n",
    "lc = learning_curve(KNeighborsRegressor(n_neighbors=6),x,y,cv=5)\n",
    "samples, train, test = lc[0] , lc[1], lc[2]"
   ]
  },
  {
   "cell_type": "code",
   "execution_count": 39,
   "metadata": {},
   "outputs": [
    {
     "data": {
      "text/plain": [
       "<matplotlib.legend.Legend at 0x250113a57c8>"
      ]
     },
     "execution_count": 39,
     "metadata": {},
     "output_type": "execute_result"
    },
    {
     "data": {
      "image/png": "[encoded data removed]",
      "text/plain": [
       "<Figure size 432x288 with 1 Axes>"
      ]
     },
     "metadata": {
      "needs_background": "light"
     },
     "output_type": "display_data"
    }
   ],
   "source": [
    "#R2 errors plot\n",
    "plt.plot(samples,np.mean(train,axis=1))\n",
    "plt.plot(samples,np.mean(test,axis=1))\n",
    "plt.legend(['train','test'])"
   ]
  },
  {
   "cell_type": "code",
   "execution_count": 40,
   "metadata": {},
   "outputs": [
    {
     "data": {
      "text/plain": [
       "array([ 177,  577,  976, 1376, 1776])"
      ]
     },
     "execution_count": 40,
     "metadata": {},
     "output_type": "execute_result"
    }
   ],
   "source": [
    "samples"
   ]
  },
  {
   "cell_type": "code",
   "execution_count": null,
   "metadata": {},
   "outputs": [],
   "source": [
    "#Plot without first data"
   ]
  },
  {
   "cell_type": "code",
   "execution_count": 41,
   "metadata": {},
   "outputs": [
    {
     "data": {
      "text/plain": [
       "<matplotlib.legend.Legend at 0x25011311e48>"
      ]
     },
     "execution_count": 41,
     "metadata": {},
     "output_type": "execute_result"
    },
    {
     "data": {
      "image/png": "[encoded data removed]",
      "text/plain": [
       "<Figure size 432x288 with 1 Axes>"
      ]
     },
     "metadata": {
      "needs_background": "light"
     },
     "output_type": "display_data"
    }
   ],
   "source": [
    "plt.plot(samples[1:],np.mean(train,axis=1)[1:])\n",
    "plt.plot(samples[1:],np.mean(test,axis=1)[1:])\n",
    "plt.legend(['train','test'])"
   ]
  }
 ],
 "metadata": {
  "kernelspec": {
   "display_name": "Python 3",
   "language": "python",
   "name": "python3"
  },
  "language_info": {
   "codemirror_mode": {
    "name": "ipython",
    "version": 3
   },
   "file_extension": ".py",
   "mimetype": "text/x-python",
   "name": "python",
   "nbconvert_exporter": "python",
   "pygments_lexer": "ipython3",
   "version": "3.7.4"
  }
 },
 "nbformat": 4,
 "nbformat_minor": 2
}
